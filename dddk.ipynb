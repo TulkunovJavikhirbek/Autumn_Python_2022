{
 "cells": [
  {
   "cell_type": "code",
   "execution_count": 6,
   "id": "d24f0f1f",
   "metadata": {},
   "outputs": [],
   "source": [
    "import numpy as np\n",
    "def givens_rotation(A):\n",
    "   \n",
    "    (r, c) = np.shape(A)\n",
    "    Q = np.identity(r)\n",
    "    R = np.copy(A)\n",
    "    (rows, cols) = np.tril_indices(r, -1, c)\n",
    "    for (row, col) in zip(rows, cols):\n",
    "        if R[row, col] != 0:\n",
    "            r_ = np.hypot(R[col, col], R[row, col])  # d\n",
    "            c = R[col, col]/r_\n",
    "            s = -R[row, col]/r_\n",
    "            G = np.identity(r)\n",
    "            G[[col, row], [col, row]] = c\n",
    "            G[row, col] = s\n",
    "            G[col, row] = -s\n",
    "            R = np.dot(G, R)  # R=G(n-1,n)*...*G(2n)*...*G(23,1n)*...*G(12)*A\n",
    "            Q = np.dot(Q, G.T)  # Q=G(n-1,n).T*...*G(2n).T*...*G(23,1n).T*...*G(12).T\n",
    "    return (Q, R)\n",
    "\n",
    "def householder_reflection(A):\n",
    "\n",
    "    (r, c) = np.shape(A)\n",
    "    Q = np.identity(r)\n",
    "    R = np.copy(A)\n",
    "    for cnt in range(r - 1):\n",
    "        x = R[cnt:, cnt]\n",
    "        e = np.zeros_like(x)\n",
    "        e[0] = np.linalg.norm(x)\n",
    "        u = x - e\n",
    "        v = u / np.linalg.norm(u)\n",
    "        Q_cnt = np.identity(r)\n",
    "        Q_cnt[cnt:, cnt:] -= 2.0 * np.outer(v, v)\n",
    "        R = np.dot(Q_cnt, R)  # R=H(n-1)*...*H(2)*H(1)*A\n",
    "        Q = np.dot(Q, Q_cnt)  # Q = H (N-1) * ... * H (2) * H (1) H - матрица саморегулятора\n",
    "    return (Q, R)\n"
   ]
  },
  {
   "cell_type": "code",
   "execution_count": 7,
   "id": "41521882",
   "metadata": {},
   "outputs": [
    {
     "name": "stdout",
     "output_type": "stream",
     "text": [
      "[[ 0.647   0.5096  0.1799 -0.5379]\n",
      " [ 0.5392 -0.4811  0.5743  0.3848]\n",
      " [ 0.5392 -0.1305 -0.7902  0.2607]\n",
      " [ 0.      0.7013  0.1162  0.7034]]\n",
      "[[ 9.2736  3.235  -5.3916]\n",
      " [ 0.      5.7039  2.006 ]\n",
      " [-0.      0.     13.7079]\n",
      " [-0.     -0.      0.    ]]\n",
      "[[  6.   5.   0.]\n",
      " [  5.  -1.   4.]\n",
      " [  5.   1. -14.]\n",
      " [ -0.   4.   3.]]\n",
      "[[ 0.647   0.5096  0.1799  0.5379]\n",
      " [ 0.5392 -0.4811  0.5743 -0.3848]\n",
      " [ 0.5392 -0.1305 -0.7902 -0.2607]\n",
      " [ 0.      0.7013  0.1162 -0.7034]]\n",
      "[[ 9.2736  3.235  -5.3916]\n",
      " [ 0.      5.7039  2.006 ]\n",
      " [-0.      0.     13.7079]\n",
      " [ 0.     -0.     -0.    ]]\n",
      "[[  6.   5.   0.]\n",
      " [  5.  -1.   4.]\n",
      " [  5.   1. -14.]\n",
      " [ -0.   4.   3.]]\n"
     ]
    }
   ],
   "source": [
    "np.set_printoptions(precision=4, suppress=True)\n",
    "A = np.array([[6, 5, 0],[5, -1, 4],[5, 1, -14],[0, 4, 3]],dtype=float)\n",
    "(Q, R) = givens_rotation(A)\n",
    "print(Q)\n",
    "print(R)\n",
    "print (np.dot(Q,R))\n",
    "\n",
    "(Q, R) = householder_reflection(A)\n",
    "print(Q)\n",
    "print(R)\n",
    "print (np.dot(Q,R))"
   ]
  },
  {
   "cell_type": "code",
   "execution_count": null,
   "id": "96105b58",
   "metadata": {},
   "outputs": [],
   "source": []
  }
 ],
 "metadata": {
  "kernelspec": {
   "display_name": "Python 3 (ipykernel)",
   "language": "python",
   "name": "python3"
  },
  "language_info": {
   "codemirror_mode": {
    "name": "ipython",
    "version": 3
   },
   "file_extension": ".py",
   "mimetype": "text/x-python",
   "name": "python",
   "nbconvert_exporter": "python",
   "pygments_lexer": "ipython3",
   "version": "3.9.7"
  }
 },
 "nbformat": 4,
 "nbformat_minor": 5
}
