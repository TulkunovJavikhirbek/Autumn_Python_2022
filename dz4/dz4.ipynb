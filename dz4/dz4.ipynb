{
 "cells": [
  {
   "cell_type": "code",
   "execution_count": 1,
   "id": "bc532a5b",
   "metadata": {},
   "outputs": [],
   "source": [
    "import numpy as np"
   ]
  },
  {
   "cell_type": "markdown",
   "id": "cca3a3e5",
   "metadata": {},
   "source": [
    "**1. (0.2 балла)** Реализуйте функцию, возвращающую максимальный элемент в векторе x среди элементов, перед которыми стоит нулевой. Для x = np.array([6, 2, 0, 3, 0, 0, 5, 7, 0]) ответом является 5. Если нулевых элементов нет, функция должна возвращать None.\n"
   ]
  },
  {
   "cell_type": "code",
   "execution_count": 2,
   "id": "65094f77",
   "metadata": {},
   "outputs": [
    {
     "name": "stdout",
     "output_type": "stream",
     "text": [
      "5\n"
     ]
    }
   ],
   "source": [
    "\n",
    "x = np.array([6, 2, 0, 3, 0, 0, 5, 7, 0])\n",
    "zer = x==0\n",
    "print (x[1:][zer[:-1]].max())"
   ]
  },
  {
   "cell_type": "markdown",
   "id": "61e72975",
   "metadata": {},
   "source": [
    "**2. (0.2 балла)** Реализуйте функцию, принимающую на вход матрицу и некоторое число и возвращающую ближайший к числу элемент матрицы. Например: для X = np.arange(0,10).reshape((2, 5)) и v = 3.6 ответом будет 4."
   ]
  },
  {
   "cell_type": "code",
   "execution_count": 3,
   "id": "fc3cd5ac",
   "metadata": {},
   "outputs": [
    {
     "ename": "NameError",
     "evalue": "name 'X' is not defined",
     "output_type": "error",
     "traceback": [
      "\u001b[1;31m---------------------------------------------------------------------------\u001b[0m",
      "\u001b[1;31mNameError\u001b[0m                                 Traceback (most recent call last)",
      "\u001b[1;32m~\\AppData\\Local\\Temp/ipykernel_38536/383920720.py\u001b[0m in \u001b[0;36m<module>\u001b[1;34m\u001b[0m\n\u001b[0;32m      1\u001b[0m \u001b[1;32mdef\u001b[0m \u001b[0mnearest_value\u001b[0m\u001b[1;33m(\u001b[0m\u001b[0mX\u001b[0m\u001b[1;33m,\u001b[0m \u001b[0mv\u001b[0m\u001b[1;33m)\u001b[0m\u001b[1;33m:\u001b[0m\u001b[1;33m\u001b[0m\u001b[1;33m\u001b[0m\u001b[0m\n\u001b[0;32m      2\u001b[0m     \u001b[1;32mreturn\u001b[0m \u001b[0mint\u001b[0m\u001b[1;33m(\u001b[0m\u001b[0mround\u001b[0m\u001b[1;33m(\u001b[0m\u001b[0mnp\u001b[0m\u001b[1;33m.\u001b[0m\u001b[0mmin\u001b[0m\u001b[1;33m(\u001b[0m\u001b[0mnp\u001b[0m\u001b[1;33m.\u001b[0m\u001b[0mabs\u001b[0m\u001b[1;33m(\u001b[0m\u001b[0mX\u001b[0m \u001b[1;33m-\u001b[0m \u001b[0mv\u001b[0m\u001b[1;33m)\u001b[0m\u001b[1;33m)\u001b[0m\u001b[1;33m,\u001b[0m \u001b[1;36m1\u001b[0m\u001b[1;33m)\u001b[0m \u001b[1;33m+\u001b[0m \u001b[0mv\u001b[0m\u001b[1;33m)\u001b[0m\u001b[1;33m\u001b[0m\u001b[1;33m\u001b[0m\u001b[0m\n\u001b[1;32m----> 3\u001b[1;33m \u001b[0mnearest_value\u001b[0m\u001b[1;33m(\u001b[0m\u001b[0mX\u001b[0m\u001b[1;33m,\u001b[0m \u001b[0mv\u001b[0m\u001b[1;33m)\u001b[0m\u001b[1;33m\u001b[0m\u001b[1;33m\u001b[0m\u001b[0m\n\u001b[0m",
      "\u001b[1;31mNameError\u001b[0m: name 'X' is not defined"
     ]
    }
   ],
   "source": [
    "def nearest_value(X, v):\n",
    "    return int(round(np.min(np.abs(X - v)), 1) + v)\n",
    "nearest_value(X, v)"
   ]
  },
  {
   "cell_type": "code",
   "execution_count": null,
   "id": "c5c639b8",
   "metadata": {},
   "outputs": [],
   "source": [
    "A = np.array([[14, 12, 100],[23, 45, 43],[90, 50, 90]])\n",
    "v = 5.1\n",
    "print(int(round(np.min(np.abs(A - v)), 1) + v))\n"
   ]
  },
  {
   "cell_type": "markdown",
   "id": "cf6ab128",
   "metadata": {},
   "source": [
    "**3. (0.2 балла)** Реализуйте функцию scale(X), которая принимает на вход матрицу и масштабирует каждый ее столбец (вычитает выборочное среднее и делит на стандартное отклонение). Убедитесь, что в функции не будет происходить деления на ноль. Протестируйте на случайной матрице (для её генерации можно использовать, например, функцию [numpy.random.randint](http://docs.scipy.org/doc/numpy/reference/generated/numpy.random.randint.html))."
   ]
  },
  {
   "cell_type": "code",
   "execution_count": 4,
   "id": "2dcf2bfb",
   "metadata": {},
   "outputs": [],
   "source": [
    "def scale(X):\n",
    "    return (X - X.mean()) / np.std(X)"
   ]
  },
  {
   "cell_type": "code",
   "execution_count": 5,
   "id": "38661047",
   "metadata": {},
   "outputs": [
    {
     "name": "stdout",
     "output_type": "stream",
     "text": [
      "[[7 7 9 3 1]\n",
      " [7 1 6 5 3]\n",
      " [7 7 7 5 7]]\n"
     ]
    },
    {
     "data": {
      "text/plain": [
       "array([[ 0.6568748 ,  0.6568748 ,  1.51366802, -1.05671163, -1.91350485],\n",
       "       [ 0.6568748 , -1.91350485,  0.22847819, -0.19991842, -1.05671163],\n",
       "       [ 0.6568748 ,  0.6568748 ,  0.6568748 , -0.19991842,  0.6568748 ]])"
      ]
     },
     "execution_count": 5,
     "metadata": {},
     "output_type": "execute_result"
    }
   ],
   "source": [
    "X = np.random.randint(1, 10, size=(3,5))\n",
    "\n",
    "print(X)\n",
    "scale(X)"
   ]
  },
  {
   "cell_type": "markdown",
   "id": "e149d173",
   "metadata": {},
   "source": [
    "**4. (0.2 балла)** Реализуйте функцию, которая для заданной матрицы находит:\n",
    " - определитель\n",
    " - след\n",
    " - наименьший и наибольший элементы\n",
    " - норму Фробениуса\n",
    " - собственные числа\n",
    " - обратную матрицу\n",
    "\n",
    "Для тестирования сгенерируйте матрицу с элементами из нормального распределения $\\mathcal{N}$(10,1)"
   ]
  },
  {
   "cell_type": "code",
   "execution_count": 6,
   "id": "6a0fd991",
   "metadata": {},
   "outputs": [
    {
     "name": "stdout",
     "output_type": "stream",
     "text": [
      "[[11.58466566 10.59985609 10.11627919]\n",
      " [ 9.53333233 10.69743226  9.32308989]\n",
      " [11.79387955  9.14857947  9.90072881]]\n",
      "определитель:  9.88508132\n",
      "след:  32.18282673\n",
      "наименьший элемент:  9.14857947\n",
      "наибольший элемент:  11.79387955\n",
      "норма Фробениуса: 31.01542442\n",
      "собственные числа:  [30.93638175  0.36077831  0.88566667]\n",
      "Обратная матрица:  [[ 2.08590566 -1.25408341 -0.95040192]\n",
      " [ 1.57494518 -0.46671798 -1.16974535]\n",
      " [-3.94005654  1.92514264  2.3140149 ]]\n"
     ]
    }
   ],
   "source": [
    "def get_stats(k):\n",
    "    \n",
    "    print('определитель: ', np.linalg.det(k).round(8))\n",
    "    print('след: ', np.trace(k).round(8))\n",
    "    print('наименьший элемент: ', np.min(k).round(8))\n",
    "    print('наибольший элемент: ', np.max(k).round(8))\n",
    "    print('норма Фробениуса:', np.linalg.norm(k, ord='fro').round(8))\n",
    "    print('собственные числа: ', np.linalg.eigvals(k))\n",
    "    print('Обратная матрица: ', np.linalg.inv(k).round(8))\n",
    "                      \n",
    "    return\n",
    "k = np.random.normal(10, 1, (3, 3))\n",
    "print (k)\n",
    "get_stats(k)"
   ]
  },
  {
   "cell_type": "markdown",
   "id": "0602df52",
   "metadata": {},
   "source": [
    "5. (0.2 балла) Повторите 100 раз следующий эксперимент: сгенерируйте две матрицы размера 10×10 из стандартного нормального распределения, перемножьте их (как матрицы) и найдите максимальный элемент. Какое среднее значение по экспериментам у максимальных элементов? 95-процентная квантиль?"
   ]
  },
  {
   "cell_type": "code",
   "execution_count": 7,
   "id": "dc99d0b9",
   "metadata": {},
   "outputs": [
    {
     "name": "stdout",
     "output_type": "stream",
     "text": [
      "Cреднее значение по экспериментам у максимальных элементов:  8.389700251332059\n",
      "95-процентная квантиль 8.485246727132045\n"
     ]
    }
   ],
   "source": [
    "e = np.empty(100)\n",
    "for exp_num in range(100):\n",
    "    X = np.empty(1000)\n",
    "    for i in range(1000):\n",
    "        x1 = np.random.normal(0, 1, (10, 10))\n",
    "        x2 = np.random.normal(0, 1, (10, 10))\n",
    "        X[i] = np.max(x1.dot(x2))\n",
    "    e[exp_num] = np.average(X)\n",
    "print('Cреднее значение по экспериментам у максимальных элементов: ', np.average(e))\n",
    "print('95-процентная квантиль', np.percentile(e, 95))"
   ]
  },
  {
   "cell_type": "markdown",
   "id": "eb904afb",
   "metadata": {},
   "source": [
    "Pandas\n",
    "\n",
    "\n",
    "Ответьте на вопросы о данных по авиарейсам в США за январь-апрель 2008 года.\n",
    "Данные и их описание\n",
    "\n",
    "Airline on-time performance\n",
    "\n",
    "Have you ever been stuck in an airport because your flight was delayed or cancelled and wondered if you could have predicted it if you'd had more data? This is your chance to find out.\n",
    "\n",
    "The data The data set is available for download here. The data consists of flight arrival and departure details for all commercial flights within the USA, from October 1987 to April 2008. This is a large dataset: there are nearly 120 million records in total, and takes up 1.6 gigabytes of space compressed and 12 gigabytes when uncompressed.\n",
    "\n",
    "Understanding and preparing the data In order to answer above questions, we are going to analyze the provided dataset, containing up to 1936758 ### different internal flights in the US for 2008 and their causes for delay, diversion and cancellation\n",
    "\n",
    "The data comes from the U.S. Department of Transportation’s (DOT) Bureau of Transportation Statistics (BTS). Meta data explanations\n",
    "\n",
    "This dataset is composed by the following variables:\n",
    "\n",
    "Year 2008 Month 1-12 DayofMonth 1-31 DayOfWeek 1 (Monday) - 7 (Sunday)\n",
    "DepTime actual departure time (local, hhmm)\n",
    "CRSDepTime scheduled departure time (local, hhmm)\n",
    "ArrTime actual arrival time (local, hhmm)\n",
    "CRSArrTime scheduled arrival time (local, hhmm)\n",
    "UniqueCarrier unique carrier code\n",
    "FlightNum flight number\n",
    "TailNum plane tail number: aircraft registration, unique aircraft identifier\n",
    "ActualElapsedTime in minutes\n",
    "CRSElapsedTime in minutes\n",
    "AirTime in minutes\n",
    "ArrDelay arrival delay, in minutes: A flight is counted as “on time” if it operated less than 15 minutes later the scheduled time shown in the carriers’ Computerized Reservations Systems (CRS).\n",
    "DepDelay departure delay, in minutes\n",
    "Origin origin IATA airport code\n",
    "Dest destination IATA airport code\n",
    "Distance in miles\n",
    "TaxiIn taxi in time, in minutes\n",
    "TaxiOut taxi out time in minutes\n",
    "Cancelled *was the flight cancelled\n",
    "CancellationCode reason for cancellation (A = carrier, B = weather, C = NAS, D = security)\n",
    "Diverted 1 = yes, 0 = no\n",
    "CarrierDelay in minutes: Carrier delay is within the control of the air carrier. Examples of occurrences that may determine carrier delay are: aircraft cleaning, aircraft damage, awaiting the arrival of connecting passengers or crew, baggage, bird strike, cargo loading, catering, computer, outage-carrier equipment, crew legality (pilot or attendant rest), damage by hazardous goods, engineering inspection, fueling, handling disabled passengers, late crew, lavatory servicing, maintenance, oversales, potable water servicing, removal of unruly passenger, slow boarding or seating, stowing carry-on baggage, weight and balance delays.\n",
    "WeatherDelay in minutes: Weather delay is caused by extreme or hazardous weather conditions that are forecasted or manifest themselves on point of departure, enroute, or on point of arrival.\n",
    "NASDelay in minutes: Delay that is within the control of the National Airspace System (NAS) may include: non-extreme weather conditions, airport operations, heavy traffic volume, air traffic control, etc.\n",
    "SecurityDelay in minutes: Security delay is caused by evacuation of a terminal or concourse, re-boarding of aircraft because of security breach, inoperative screening equipment and/or long lines in excess of 29 minutes at screening areas.\n",
    "LateAircraftDelay in minutes: Arrival delay at an airport due to the late arrival of the same aircraft at a previous airport. The ripple effect of an earlier delay at downstream airports is referred to as delay propagation."
   ]
  },
  {
   "cell_type": "code",
   "execution_count": 8,
   "id": "2188ce6c",
   "metadata": {},
   "outputs": [],
   "source": [
    "import pandas as pd\n",
    "%matplotlib inline\n",
    "data = pd.read_csv('2008.csv')"
   ]
  },
  {
   "cell_type": "markdown",
   "id": "f4313ff5",
   "metadata": {},
   "source": [
    "6. (0.3 балла) Какая из причин отмены рейса (CancellationCode) была самой частой? (расшифровки кодов можно найти в описании данных)"
   ]
  },
  {
   "cell_type": "code",
   "execution_count": 9,
   "id": "c55c18a0",
   "metadata": {},
   "outputs": [
    {
     "data": {
      "text/plain": [
       "'A'"
      ]
     },
     "execution_count": 9,
     "metadata": {},
     "output_type": "execute_result"
    }
   ],
   "source": [
    "\n",
    "data['CancellationCode'].value_counts().idxmax()"
   ]
  },
  {
   "cell_type": "markdown",
   "id": "5f4dd63f",
   "metadata": {},
   "source": [
    "7. (0.3 балла) Найдите среднее, минимальное и максимальное расстояние, пройденное самолетом."
   ]
  },
  {
   "cell_type": "code",
   "execution_count": 10,
   "id": "0a02a296",
   "metadata": {},
   "outputs": [
    {
     "name": "stdout",
     "output_type": "stream",
     "text": [
      "max =  4962\n",
      "min =  31\n",
      "mean =  724.5082571428571\n"
     ]
    }
   ],
   "source": [
    "print('max = ', data['Distance'].max())\n",
    "print('min = ', data['Distance'].min())\n",
    "print('mean = ', data['Distance'].mean())"
   ]
  },
  {
   "cell_type": "markdown",
   "id": "35c38393",
   "metadata": {},
   "source": [
    "8. (0.3 балла) Не выглядит ли подозрительным минимальное пройденное расстояние? В какие дни и на каких рейсах оно было? Какое расстояние было пройдено этими же рейсами в другие дни?"
   ]
  },
  {
   "cell_type": "code",
   "execution_count": 11,
   "id": "3d00bb77",
   "metadata": {},
   "outputs": [
    {
     "data": {
      "text/html": [
       "<div>\n",
       "<style scoped>\n",
       "    .dataframe tbody tr th:only-of-type {\n",
       "        vertical-align: middle;\n",
       "    }\n",
       "\n",
       "    .dataframe tbody tr th {\n",
       "        vertical-align: top;\n",
       "    }\n",
       "\n",
       "    .dataframe thead th {\n",
       "        text-align: right;\n",
       "    }\n",
       "</style>\n",
       "<table border=\"1\" class=\"dataframe\">\n",
       "  <thead>\n",
       "    <tr style=\"text-align: right;\">\n",
       "      <th></th>\n",
       "      <th>FlightNum</th>\n",
       "      <th>Year</th>\n",
       "      <th>Month</th>\n",
       "      <th>DayofMonth</th>\n",
       "      <th>Distance</th>\n",
       "    </tr>\n",
       "  </thead>\n",
       "  <tbody>\n",
       "    <tr>\n",
       "      <th>1116</th>\n",
       "      <td>65</td>\n",
       "      <td>2008</td>\n",
       "      <td>12</td>\n",
       "      <td>30</td>\n",
       "      <td>31</td>\n",
       "    </tr>\n",
       "    <tr>\n",
       "      <th>6958</th>\n",
       "      <td>65</td>\n",
       "      <td>2008</td>\n",
       "      <td>12</td>\n",
       "      <td>26</td>\n",
       "      <td>31</td>\n",
       "    </tr>\n",
       "    <tr>\n",
       "      <th>17349</th>\n",
       "      <td>64</td>\n",
       "      <td>2008</td>\n",
       "      <td>8</td>\n",
       "      <td>18</td>\n",
       "      <td>31</td>\n",
       "    </tr>\n",
       "    <tr>\n",
       "      <th>27534</th>\n",
       "      <td>64</td>\n",
       "      <td>2008</td>\n",
       "      <td>3</td>\n",
       "      <td>11</td>\n",
       "      <td>31</td>\n",
       "    </tr>\n",
       "    <tr>\n",
       "      <th>46082</th>\n",
       "      <td>65</td>\n",
       "      <td>2008</td>\n",
       "      <td>8</td>\n",
       "      <td>9</td>\n",
       "      <td>31</td>\n",
       "    </tr>\n",
       "    <tr>\n",
       "      <th>48112</th>\n",
       "      <td>64</td>\n",
       "      <td>2008</td>\n",
       "      <td>2</td>\n",
       "      <td>28</td>\n",
       "      <td>31</td>\n",
       "    </tr>\n",
       "  </tbody>\n",
       "</table>\n",
       "</div>"
      ],
      "text/plain": [
       "       FlightNum  Year  Month  DayofMonth  Distance\n",
       "1116          65  2008     12          30        31\n",
       "6958          65  2008     12          26        31\n",
       "17349         64  2008      8          18        31\n",
       "27534         64  2008      3          11        31\n",
       "46082         65  2008      8           9        31\n",
       "48112         64  2008      2          28        31"
      ]
     },
     "execution_count": 11,
     "metadata": {},
     "output_type": "execute_result"
    }
   ],
   "source": [
    "data.loc[data['Distance'] == 31, ['FlightNum', 'Year', 'Month', 'DayofMonth', 'Distance']]"
   ]
  },
  {
   "cell_type": "code",
   "execution_count": 12,
   "id": "92127a47",
   "metadata": {},
   "outputs": [
    {
     "data": {
      "text/html": [
       "<div>\n",
       "<style scoped>\n",
       "    .dataframe tbody tr th:only-of-type {\n",
       "        vertical-align: middle;\n",
       "    }\n",
       "\n",
       "    .dataframe tbody tr th {\n",
       "        vertical-align: top;\n",
       "    }\n",
       "\n",
       "    .dataframe thead th {\n",
       "        text-align: right;\n",
       "    }\n",
       "</style>\n",
       "<table border=\"1\" class=\"dataframe\">\n",
       "  <thead>\n",
       "    <tr style=\"text-align: right;\">\n",
       "      <th></th>\n",
       "      <th>FlightNum</th>\n",
       "      <th>Year</th>\n",
       "      <th>Month</th>\n",
       "      <th>DayofMonth</th>\n",
       "      <th>Distance</th>\n",
       "    </tr>\n",
       "  </thead>\n",
       "  <tbody>\n",
       "    <tr>\n",
       "      <th>501</th>\n",
       "      <td>64</td>\n",
       "      <td>2008</td>\n",
       "      <td>3</td>\n",
       "      <td>20</td>\n",
       "      <td>533</td>\n",
       "    </tr>\n",
       "    <tr>\n",
       "      <th>1116</th>\n",
       "      <td>65</td>\n",
       "      <td>2008</td>\n",
       "      <td>12</td>\n",
       "      <td>30</td>\n",
       "      <td>31</td>\n",
       "    </tr>\n",
       "    <tr>\n",
       "      <th>1389</th>\n",
       "      <td>64</td>\n",
       "      <td>2008</td>\n",
       "      <td>3</td>\n",
       "      <td>13</td>\n",
       "      <td>680</td>\n",
       "    </tr>\n",
       "    <tr>\n",
       "      <th>1517</th>\n",
       "      <td>65</td>\n",
       "      <td>2008</td>\n",
       "      <td>7</td>\n",
       "      <td>10</td>\n",
       "      <td>680</td>\n",
       "    </tr>\n",
       "    <tr>\n",
       "      <th>2619</th>\n",
       "      <td>64</td>\n",
       "      <td>2008</td>\n",
       "      <td>5</td>\n",
       "      <td>23</td>\n",
       "      <td>2381</td>\n",
       "    </tr>\n",
       "    <tr>\n",
       "      <th>...</th>\n",
       "      <td>...</td>\n",
       "      <td>...</td>\n",
       "      <td>...</td>\n",
       "      <td>...</td>\n",
       "      <td>...</td>\n",
       "    </tr>\n",
       "    <tr>\n",
       "      <th>66529</th>\n",
       "      <td>65</td>\n",
       "      <td>2008</td>\n",
       "      <td>12</td>\n",
       "      <td>21</td>\n",
       "      <td>82</td>\n",
       "    </tr>\n",
       "    <tr>\n",
       "      <th>67172</th>\n",
       "      <td>64</td>\n",
       "      <td>2008</td>\n",
       "      <td>3</td>\n",
       "      <td>22</td>\n",
       "      <td>533</td>\n",
       "    </tr>\n",
       "    <tr>\n",
       "      <th>68264</th>\n",
       "      <td>65</td>\n",
       "      <td>2008</td>\n",
       "      <td>9</td>\n",
       "      <td>7</td>\n",
       "      <td>386</td>\n",
       "    </tr>\n",
       "    <tr>\n",
       "      <th>68338</th>\n",
       "      <td>65</td>\n",
       "      <td>2008</td>\n",
       "      <td>8</td>\n",
       "      <td>3</td>\n",
       "      <td>2454</td>\n",
       "    </tr>\n",
       "    <tr>\n",
       "      <th>69305</th>\n",
       "      <td>65</td>\n",
       "      <td>2008</td>\n",
       "      <td>1</td>\n",
       "      <td>5</td>\n",
       "      <td>1005</td>\n",
       "    </tr>\n",
       "  </tbody>\n",
       "</table>\n",
       "<p>78 rows × 5 columns</p>\n",
       "</div>"
      ],
      "text/plain": [
       "       FlightNum  Year  Month  DayofMonth  Distance\n",
       "501           64  2008      3          20       533\n",
       "1116          65  2008     12          30        31\n",
       "1389          64  2008      3          13       680\n",
       "1517          65  2008      7          10       680\n",
       "2619          64  2008      5          23      2381\n",
       "...          ...   ...    ...         ...       ...\n",
       "66529         65  2008     12          21        82\n",
       "67172         64  2008      3          22       533\n",
       "68264         65  2008      9           7       386\n",
       "68338         65  2008      8           3      2454\n",
       "69305         65  2008      1           5      1005\n",
       "\n",
       "[78 rows x 5 columns]"
      ]
     },
     "execution_count": 12,
     "metadata": {},
     "output_type": "execute_result"
    }
   ],
   "source": [
    "data.loc[(data['FlightNum'] == 64) | (data['FlightNum'] == 65), ['FlightNum', 'Year', 'Month', 'DayofMonth', 'Distance']]"
   ]
  },
  {
   "cell_type": "markdown",
   "id": "02bbdd94",
   "metadata": {},
   "source": [
    "9. (0.3 балла) Из какого аэропорта было произведено больше всего вылетов? В каком городе он находится?"
   ]
  },
  {
   "cell_type": "code",
   "execution_count": 13,
   "id": "4142339a",
   "metadata": {},
   "outputs": [
    {
     "data": {
      "text/plain": [
       "'ATL'"
      ]
     },
     "execution_count": 13,
     "metadata": {},
     "output_type": "execute_result"
    }
   ],
   "source": [
    "data['Origin'].value_counts().idxmax()"
   ]
  },
  {
   "cell_type": "markdown",
   "id": "56a62eba",
   "metadata": {},
   "source": [
    "10. (0.3 балла) Найдите для каждого аэропорта среднее время полета (AirTime) по всем вылетевшим из него рейсам. Какой аэропорт имеет наибольшее значение этого показателя?"
   ]
  },
  {
   "cell_type": "code",
   "execution_count": 14,
   "id": "1c732388",
   "metadata": {},
   "outputs": [
    {
     "data": {
      "text/html": [
       "<div>\n",
       "<style scoped>\n",
       "    .dataframe tbody tr th:only-of-type {\n",
       "        vertical-align: middle;\n",
       "    }\n",
       "\n",
       "    .dataframe tbody tr th {\n",
       "        vertical-align: top;\n",
       "    }\n",
       "\n",
       "    .dataframe thead th {\n",
       "        text-align: right;\n",
       "    }\n",
       "</style>\n",
       "<table border=\"1\" class=\"dataframe\">\n",
       "  <thead>\n",
       "    <tr style=\"text-align: right;\">\n",
       "      <th></th>\n",
       "      <th>AirTime</th>\n",
       "    </tr>\n",
       "    <tr>\n",
       "      <th>Origin</th>\n",
       "      <th></th>\n",
       "    </tr>\n",
       "  </thead>\n",
       "  <tbody>\n",
       "    <tr>\n",
       "      <th>GST</th>\n",
       "      <td>13.000000</td>\n",
       "    </tr>\n",
       "    <tr>\n",
       "      <th>WRG</th>\n",
       "      <td>18.000000</td>\n",
       "    </tr>\n",
       "    <tr>\n",
       "      <th>OXR</th>\n",
       "      <td>19.666667</td>\n",
       "    </tr>\n",
       "    <tr>\n",
       "      <th>PSG</th>\n",
       "      <td>20.250000</td>\n",
       "    </tr>\n",
       "    <tr>\n",
       "      <th>MKG</th>\n",
       "      <td>21.500000</td>\n",
       "    </tr>\n",
       "    <tr>\n",
       "      <th>...</th>\n",
       "      <td>...</td>\n",
       "    </tr>\n",
       "    <tr>\n",
       "      <th>STT</th>\n",
       "      <td>185.029412</td>\n",
       "    </tr>\n",
       "    <tr>\n",
       "      <th>PSE</th>\n",
       "      <td>191.875000</td>\n",
       "    </tr>\n",
       "    <tr>\n",
       "      <th>BQN</th>\n",
       "      <td>193.954545</td>\n",
       "    </tr>\n",
       "    <tr>\n",
       "      <th>SJU</th>\n",
       "      <td>205.200000</td>\n",
       "    </tr>\n",
       "    <tr>\n",
       "      <th>DLG</th>\n",
       "      <td>NaN</td>\n",
       "    </tr>\n",
       "  </tbody>\n",
       "</table>\n",
       "<p>297 rows × 1 columns</p>\n",
       "</div>"
      ],
      "text/plain": [
       "           AirTime\n",
       "Origin            \n",
       "GST      13.000000\n",
       "WRG      18.000000\n",
       "OXR      19.666667\n",
       "PSG      20.250000\n",
       "MKG      21.500000\n",
       "...            ...\n",
       "STT     185.029412\n",
       "PSE     191.875000\n",
       "BQN     193.954545\n",
       "SJU     205.200000\n",
       "DLG            NaN\n",
       "\n",
       "[297 rows x 1 columns]"
      ]
     },
     "execution_count": 14,
     "metadata": {},
     "output_type": "execute_result"
    }
   ],
   "source": [
    "data.loc[:, ['Origin', 'AirTime']].groupby(['Origin']).agg('mean').sort_values(by='AirTime')"
   ]
  },
  {
   "cell_type": "markdown",
   "id": "da65b45b",
   "metadata": {},
   "source": [
    "11. (0.5 балла) Найдите аэропорт, у которого наибольшая доля задержанных (DepDelay > 0) рейсов. Исключите при этом из рассмотрения аэропорты, из которых было отправлено меньше 1000 рейсов (используйте функцию filter после groupby)."
   ]
  },
  {
   "cell_type": "code",
   "execution_count": 15,
   "id": "ddef9e1d",
   "metadata": {},
   "outputs": [
    {
     "data": {
      "text/html": [
       "<div>\n",
       "<style scoped>\n",
       "    .dataframe tbody tr th:only-of-type {\n",
       "        vertical-align: middle;\n",
       "    }\n",
       "\n",
       "    .dataframe tbody tr th {\n",
       "        vertical-align: top;\n",
       "    }\n",
       "\n",
       "    .dataframe thead th {\n",
       "        text-align: right;\n",
       "    }\n",
       "</style>\n",
       "<table border=\"1\" class=\"dataframe\">\n",
       "  <thead>\n",
       "    <tr style=\"text-align: right;\">\n",
       "      <th></th>\n",
       "    </tr>\n",
       "    <tr>\n",
       "      <th>Origin</th>\n",
       "    </tr>\n",
       "  </thead>\n",
       "  <tbody>\n",
       "    <tr>\n",
       "      <th>ABE</th>\n",
       "    </tr>\n",
       "    <tr>\n",
       "      <th>ABI</th>\n",
       "    </tr>\n",
       "    <tr>\n",
       "      <th>ABQ</th>\n",
       "    </tr>\n",
       "    <tr>\n",
       "      <th>ABY</th>\n",
       "    </tr>\n",
       "    <tr>\n",
       "      <th>ACK</th>\n",
       "    </tr>\n",
       "    <tr>\n",
       "      <th>...</th>\n",
       "    </tr>\n",
       "    <tr>\n",
       "      <th>VPS</th>\n",
       "    </tr>\n",
       "    <tr>\n",
       "      <th>WRG</th>\n",
       "    </tr>\n",
       "    <tr>\n",
       "      <th>XNA</th>\n",
       "    </tr>\n",
       "    <tr>\n",
       "      <th>YAK</th>\n",
       "    </tr>\n",
       "    <tr>\n",
       "      <th>YUM</th>\n",
       "    </tr>\n",
       "  </tbody>\n",
       "</table>\n",
       "<p>277 rows × 0 columns</p>\n",
       "</div>"
      ],
      "text/plain": [
       "Empty DataFrame\n",
       "Columns: []\n",
       "Index: [ABE, ABI, ABQ, ABY, ACK, ACT, ACV, ACY, ADK, AEX, AGS, AKN, ALB, AMA, ANC, ASE, ATL, ATW, AUS, AVL, AVP, AZO, BDL, BET, BFL, BGM, BGR, BHM, BIL, BIS, BMI, BNA, BOI, BOS, BQN, BRO, BRW, BTM, BTR, BTV, BUF, BUR, BWI, BZN, CAE, CAK, CDC, CDV, CEC, CHA, CHO, CHS, CIC, CID, CLD, CLE, CLL, CLT, CMH, CMI, COD, COS, CPR, CRP, CRW, CSG, CVG, CWA, DAB, DAL, DAY, DBQ, DCA, DEN, DFW, DHN, DLH, DRO, DSM, DTW, EGE, EKO, ELM, ELP, ERI, EUG, EVV, EWN, EWR, EYW, FAI, FAR, FAT, FAY, FCA, FLG, FLL, FLO, FNT, FSD, ...]\n",
       "\n",
       "[277 rows x 0 columns]"
      ]
     },
     "execution_count": 15,
     "metadata": {},
     "output_type": "execute_result"
    }
   ],
   "source": [
    "data12343 = data.loc[data['DepDelay'] > 0, ['Origin', 'DepDelay']].groupby(['Origin']).agg('sum').filter(data['Origin'].value_counts() >= 1000)\n",
    "data12343"
   ]
  },
  {
   "cell_type": "markdown",
   "id": "420f69ea",
   "metadata": {},
   "source": [
    "Линейная регрессия\n",
    "В этой части мы разберемся с линейной регрессией, способами её обучения и измерением качества ее прогнозов.\n",
    "\n",
    "Будем рассматривать датасет из предыдущей части задания для предсказания времени задержки отправления рейса в минутах (DepDelay). Отметим, что под задержкой подразумевается не только опоздание рейса относительно планируемого времени вылета, но и отправление до планируемого времени.\n",
    "\n",
    "Подготовка данных\n",
    "\n",
    "12. (0.5 балла) Считайте выборку из файла при помощи функции pd.read_csv и ответьте на следующие вопросы:\n",
    "\n",
    "Имеются ли в данных пропущенные значения?\n",
    "Сколько всего пропущенных элементов в таблице \"объект-признак\"?\n",
    "Сколько объектов имеют хотя бы один пропуск?\n",
    "Сколько признаков имеют хотя бы одно пропущенное значение?"
   ]
  },
  {
   "cell_type": "code",
   "execution_count": 16,
   "id": "823c1c9a",
   "metadata": {},
   "outputs": [
    {
     "name": "stdout",
     "output_type": "stream",
     "text": [
      "Year                     0\n",
      "Month                    0\n",
      "DayofMonth               0\n",
      "DayOfWeek                0\n",
      "DepTime               1399\n",
      "CRSDepTime               0\n",
      "ArrTime               1556\n",
      "CRSArrTime               0\n",
      "UniqueCarrier            0\n",
      "FlightNum                0\n",
      "TailNum                820\n",
      "ActualElapsedTime     1582\n",
      "CRSElapsedTime           9\n",
      "AirTime               1582\n",
      "ArrDelay              1582\n",
      "DepDelay              1399\n",
      "Origin                   0\n",
      "Dest                     0\n",
      "Distance                 0\n",
      "TaxiIn                1556\n",
      "TaxiOut               1406\n",
      "Cancelled                0\n",
      "CancellationCode     68589\n",
      "Diverted                 0\n",
      "CarrierDelay         54747\n",
      "WeatherDelay         54747\n",
      "NASDelay             54747\n",
      "SecurityDelay        54747\n",
      "LateAircraftDelay    54747\n",
      "dtype: int64\n"
     ]
    }
   ],
   "source": [
    "print(data.isnull().sum())"
   ]
  },
  {
   "cell_type": "code",
   "execution_count": 17,
   "id": "1c986c6c",
   "metadata": {},
   "outputs": [
    {
     "name": "stdout",
     "output_type": "stream",
     "text": [
      "Всего пропущенных элементов: 355215\n"
     ]
    }
   ],
   "source": [
    "print('Всего пропущенных элементов:', data.isnull().sum().sum())"
   ]
  },
  {
   "cell_type": "code",
   "execution_count": 18,
   "id": "39f0c1c6",
   "metadata": {},
   "outputs": [
    {
     "name": "stdout",
     "output_type": "stream",
     "text": [
      "Количество объектов, имеющих хотя бы 1 пропуск: 70000\n",
      "Количество признаков, имеющих хотя бы 1 пропуск: 16\n"
     ]
    }
   ],
   "source": [
    "print('Количество объектов, имеющих хотя бы 1 пропуск:', np.count_nonzero(np.array(data.isnull().sum(axis = 1))))\n",
    "print('Количество признаков, имеющих хотя бы 1 пропуск:', np.count_nonzero(np.array(data.isnull().sum())))\n"
   ]
  },
  {
   "cell_type": "markdown",
   "id": "63461cdf",
   "metadata": {},
   "source": [
    "Количество признаков, имеющих хотя бы 1 пропуск: 16\n",
    "Как вы понимаете, также не имеет смысла рассматривать при решении поставленной задачи объекты с пропущенным значением целевой переменной. В связи с этим ответьте на следующие вопросы и выполните соответствующие действия:\n",
    "\n",
    "Имеются ли пропущенные значения в целевой переменной?\n",
    "Проанализируйте объекты с пропущенными значениями целевой переменной. Чем вызвано это явление? Что их объединяет? Можно ли в связи с этим, на ваш взгляд, исключить какие-то признаки из рассмотрения? Обоснуйте свою точку зрения.\n",
    "Исключите из выборки объекты с пропущенным значением целевой переменной и со значением целевой переменной, равным 0, а также при необходимости исключите признаки в соответствии с вашим ответом на последний вопрос из списка и выделите целевую переменную в отдельный вектор, исключив её из матрицы \"объект-признак\"."
   ]
  },
  {
   "cell_type": "code",
   "execution_count": 19,
   "id": "3d2fadf3",
   "metadata": {},
   "outputs": [
    {
     "name": "stdout",
     "output_type": "stream",
     "text": [
      "1399\n"
     ]
    }
   ],
   "source": [
    "print(data['DepDelay'].isnull().sum())"
   ]
  },
  {
   "cell_type": "code",
   "execution_count": 20,
   "id": "7364dd46",
   "metadata": {},
   "outputs": [
    {
     "name": "stdout",
     "output_type": "stream",
     "text": [
      "       Year  Month  DayofMonth  DayOfWeek  DepTime  CRSDepTime  ArrTime  \\\n",
      "11     2008      3           6          4      NaN        1605      NaN   \n",
      "78     2008      1          19          6      NaN         750      NaN   \n",
      "103    2008      7          24          4      NaN        1230      NaN   \n",
      "112    2008      2           4          1      NaN         620      NaN   \n",
      "128    2008      1          21          1      NaN        1838      NaN   \n",
      "...     ...    ...         ...        ...      ...         ...      ...   \n",
      "69818  2008      6           9          1      NaN        1645      NaN   \n",
      "69836  2008      1          25          5      NaN         938      NaN   \n",
      "69884  2008     12          26          5      NaN        1935      NaN   \n",
      "69918  2008      3           1          6      NaN         600      NaN   \n",
      "69949  2008      1          21          1      NaN        1630      NaN   \n",
      "\n",
      "       CRSArrTime UniqueCarrier  FlightNum  ... TaxiIn  TaxiOut  Cancelled  \\\n",
      "11           1940            AA        484  ...    NaN      NaN          1   \n",
      "78            930            EV       4772  ...    NaN      NaN          1   \n",
      "103          1355            FL        816  ...    NaN      NaN          1   \n",
      "112           758            NW       1281  ...    NaN      NaN          1   \n",
      "128          2005            UA       1251  ...    NaN      NaN          1   \n",
      "...           ...           ...        ...  ...    ...      ...        ...   \n",
      "69818        1800            MQ       3627  ...    NaN      NaN          1   \n",
      "69836        1030            MQ       3254  ...    NaN      NaN          1   \n",
      "69884        2116            NW       1430  ...    NaN      NaN          1   \n",
      "69918         742            EV       4715  ...    NaN      NaN          1   \n",
      "69949        1729            MQ       4198  ...    NaN      NaN          1   \n",
      "\n",
      "       CancellationCode  Diverted  CarrierDelay WeatherDelay NASDelay  \\\n",
      "11                    B         0           NaN          NaN      NaN   \n",
      "78                    B         0           NaN          NaN      NaN   \n",
      "103                   A         0           NaN          NaN      NaN   \n",
      "112                   B         0           NaN          NaN      NaN   \n",
      "128                   A         0           NaN          NaN      NaN   \n",
      "...                 ...       ...           ...          ...      ...   \n",
      "69818                 C         0           NaN          NaN      NaN   \n",
      "69836                 B         0           NaN          NaN      NaN   \n",
      "69884                 B         0           NaN          NaN      NaN   \n",
      "69918                 A         0           NaN          NaN      NaN   \n",
      "69949                 C         0           NaN          NaN      NaN   \n",
      "\n",
      "       SecurityDelay  LateAircraftDelay  \n",
      "11               NaN                NaN  \n",
      "78               NaN                NaN  \n",
      "103              NaN                NaN  \n",
      "112              NaN                NaN  \n",
      "128              NaN                NaN  \n",
      "...              ...                ...  \n",
      "69818            NaN                NaN  \n",
      "69836            NaN                NaN  \n",
      "69884            NaN                NaN  \n",
      "69918            NaN                NaN  \n",
      "69949            NaN                NaN  \n",
      "\n",
      "[1399 rows x 29 columns]\n"
     ]
    }
   ],
   "source": [
    "print(data[data['DepDelay'].isnull() == True])"
   ]
  },
  {
   "cell_type": "code",
   "execution_count": 21,
   "id": "666fadf9",
   "metadata": {},
   "outputs": [
    {
     "name": "stdout",
     "output_type": "stream",
     "text": [
      "       Year  Month  DayofMonth  DayOfWeek  DepTime  CRSDepTime  ArrTime  \\\n",
      "0      2008      6          18          3   2111.0        2055   2308.0   \n",
      "1      2008      6           4          3   1426.0        1410   1730.0   \n",
      "2      2008      8           3          7   1143.0        1145   1501.0   \n",
      "3      2008      1          23          3   1141.0        1144   1323.0   \n",
      "4      2008      5           4          7    815.0         820   1243.0   \n",
      "...     ...    ...         ...        ...      ...         ...      ...   \n",
      "69995  2008      5          12          1   1829.0        1840   2137.0   \n",
      "69996  2008      5          11          7   1149.0        1125   1336.0   \n",
      "69997  2008      9          24          3   1012.0        1012   1132.0   \n",
      "69998  2008      2          18          1   1906.0        1900   2200.0   \n",
      "69999  2008     12           6          6    859.0         900    959.0   \n",
      "\n",
      "       CRSArrTime UniqueCarrier  FlightNum  ... TaxiIn  TaxiOut  Cancelled  \\\n",
      "0            2300            WN        242  ...    3.0      8.0          0   \n",
      "1            1728            XE       2380  ...    4.0     12.0          0   \n",
      "2            1520            WN       1769  ...    4.0      9.0          0   \n",
      "3            1335            OO       3802  ...    4.0     19.0          0   \n",
      "4            1300            WN        399  ...    4.0      8.0          0   \n",
      "...           ...           ...        ...  ...    ...      ...        ...   \n",
      "69995        2149            DL        794  ...   22.0     20.0          0   \n",
      "69996        1314            OO       6159  ...    4.0     13.0          0   \n",
      "69997        1132            YV       7058  ...    7.0     10.0          0   \n",
      "69998        2139            NW        641  ...   20.0     22.0          0   \n",
      "69999        1005            WN        510  ...    2.0     12.0          0   \n",
      "\n",
      "       CancellationCode  Diverted  CarrierDelay WeatherDelay NASDelay  \\\n",
      "0                   NaN         0           NaN          NaN      NaN   \n",
      "1                   NaN         0           NaN          NaN      NaN   \n",
      "2                   NaN         0           NaN          NaN      NaN   \n",
      "3                   NaN         0           NaN          NaN      NaN   \n",
      "4                   NaN         0           NaN          NaN      NaN   \n",
      "...                 ...       ...           ...          ...      ...   \n",
      "69995               NaN         0           NaN          NaN      NaN   \n",
      "69996               NaN         0           0.0          0.0      0.0   \n",
      "69997               NaN         0           NaN          NaN      NaN   \n",
      "69998               NaN         0           0.0          0.0     15.0   \n",
      "69999               NaN         0           NaN          NaN      NaN   \n",
      "\n",
      "       SecurityDelay  LateAircraftDelay  \n",
      "0                NaN                NaN  \n",
      "1                NaN                NaN  \n",
      "2                NaN                NaN  \n",
      "3                NaN                NaN  \n",
      "4                NaN                NaN  \n",
      "...              ...                ...  \n",
      "69995            NaN                NaN  \n",
      "69996            0.0               22.0  \n",
      "69997            NaN                NaN  \n",
      "69998            0.0                6.0  \n",
      "69999            NaN                NaN  \n",
      "\n",
      "[68601 rows x 29 columns]\n"
     ]
    }
   ],
   "source": [
    "print(data[data['DepDelay'].isnull() == False])"
   ]
  },
  {
   "cell_type": "code",
   "execution_count": 22,
   "id": "232958af",
   "metadata": {},
   "outputs": [
    {
     "name": "stdout",
     "output_type": "stream",
     "text": [
      "Количество отмененных рейсов, для которых нет данных по \"DepDelay\": 1399\n",
      "Количество отмененных рейсов, для которых есть данные по \"DepDelay\": 12\n",
      "Количество пустых строк для признака \"CancellationCode\": 68589\n",
      "Суммарное количество рейсов: 70000\n",
      "Количество пустых строк по последним столбцам:\n",
      "CarrierDelay         54747\n",
      "WeatherDelay         54747\n",
      "NASDelay             54747\n",
      "SecurityDelay        54747\n",
      "LateAircraftDelay    54747\n",
      "dtype: int64\n",
      "Количество объектов, для которых значение признака \"Diverted\" равно нулю: 69829\n",
      "Количество объектов, для которых значение признака \"Diverted\" равно нулю и ненулевое значение \"DepDelay\": 64651\n"
     ]
    }
   ],
   "source": [
    "print('Количество отмененных рейсов, для которых нет данных по \"DepDelay\":',\n",
    "    len(data[(data['Cancelled'] == 1) & (data['DepDelay'].isnull() == True)]))\n",
    "\n",
    "print('Количество отмененных рейсов, для которых есть данные по \"DepDelay\":',\n",
    "      len(data[(data['Cancelled'] == 1) & (data['DepDelay'].isnull() == False)]))\n",
    "print('Количество пустых строк для признака \"CancellationCode\":',\n",
    "      data.loc[:, 'CancellationCode'].isnull().sum())\n",
    "print('Суммарное количество рейсов:',len(data))\n",
    "print('Количество пустых строк по последним столбцам:')\n",
    "print(data.loc[:, ['CarrierDelay', 'WeatherDelay', 'NASDelay', 'SecurityDelay', 'LateAircraftDelay']].isnull().sum())\n",
    "print('Количество объектов, для которых значение признака \"Diverted\" равно нулю:',\n",
    "     len(data[data['Diverted'] == 0]))\n",
    "print('Количество объектов, для которых значение признака \"Diverted\" равно нулю и ненулевое значение \"DepDelay\":',\n",
    "     len(data[(data['Diverted'] == 0) & (data['DepDelay'] != 0)]))"
   ]
  },
  {
   "cell_type": "code",
   "execution_count": 23,
   "id": "83cfe6b9",
   "metadata": {},
   "outputs": [],
   "source": [
    "df = pd.read_csv('2008.csv')\n",
    "df = df[(df['DepDelay'].isnull() == False)]\n",
    "df = df[(df['DepDelay'] != 0)]\n",
    "df.drop(['Cancelled', 'CancellationCode', 'CarrierDelay', 'WeatherDelay', 'NASDelay', 'SecurityDelay', 'LateAircraftDelay', \\\n",
    "         'Diverted'], axis = 1, inplace = True)\n",
    "df.index = np.arange(len(df))\n",
    "y = np.array(df['DepDelay'])\n",
    "X = df.drop('DepDelay', axis = 1)"
   ]
  },
  {
   "cell_type": "markdown",
   "id": "1784c576",
   "metadata": {},
   "source": [
    "13. (0.5 балла) Обратите внимание, что признаки DepTime, CRSDepTime, ArrTime, CRSArrTime приведены в формате hhmm, в связи с чем будет не вполне корректно рассматривать их как вещественные.\n",
    "\n",
    "Преобразуйте каждый признак FeatureName из указанных в пару новых признаков FeatureName_Hour, FeatureName_Minute, разделив каждое из значений на часы и минуты. Не забудьте при этом исключить исходный признак из выборки. В случае, если значение признака отсутствует, значения двух новых признаков, его заменяющих, также должны отсутствовать.\n",
    "\n",
    "Например, признак DepTime необходимо заменить на пару признаков DepTime_Hour, DepTime_Minute. При этом, например, значение 155 исходного признака будет преобразовано в значения 1 и 55 признаков DepTime_Hour, DepTime_Minute соответственно."
   ]
  },
  {
   "cell_type": "code",
   "execution_count": 24,
   "id": "f5179bf1",
   "metadata": {},
   "outputs": [
    {
     "name": "stdout",
     "output_type": "stream",
     "text": [
      "DepTime         0\n",
      "CRSDepTime      0\n",
      "ArrTime       140\n",
      "CRSArrTime      0\n",
      "dtype: int64\n"
     ]
    }
   ],
   "source": [
    "print(X.loc[:, ['DepTime', 'CRSDepTime', 'ArrTime', 'CRSArrTime']].isnull().sum())"
   ]
  },
  {
   "cell_type": "code",
   "execution_count": 25,
   "id": "2b822542",
   "metadata": {},
   "outputs": [],
   "source": [
    "def get_hour(n):\n",
    "    nums = list(map(str, str(int(n))))\n",
    "    hours = ''.join(nums[:-2])\n",
    "    return hours\n",
    "\n",
    "def get_min(n):\n",
    "    nums = list(map(str, str(int(n))))\n",
    "    minutes = ''.join(nums[-2:])\n",
    "    return minutes"
   ]
  },
  {
   "cell_type": "code",
   "execution_count": 26,
   "id": "1690d1af",
   "metadata": {},
   "outputs": [],
   "source": [
    "X_at = X[X['ArrTime'].isnull() == False]"
   ]
  },
  {
   "cell_type": "code",
   "execution_count": 27,
   "id": "430276b4",
   "metadata": {},
   "outputs": [],
   "source": [
    "X['DepTime_Hour'] = pd.to_numeric(X['DepTime'].apply(get_hour))\n",
    "X['DepTime_Minute'] = pd.to_numeric(X['DepTime'].apply(get_min))\n",
    "X['CRSDepTime_Hour'] = pd.to_numeric(X['CRSDepTime'].apply(get_hour))\n",
    "X['CRSDepTime_Minute'] = pd.to_numeric(X['CRSDepTime'].apply(get_min))\n",
    "X['ArrTime_Hour'] = pd.to_numeric(X_at['ArrTime'].apply(get_hour))\n",
    "X['ArrTime_Minute'] = pd.to_numeric(X_at['ArrTime'].apply(get_min))\n",
    "X['CRSArrTime_Hour'] = pd.to_numeric(X['CRSArrTime'].apply(get_hour))\n",
    "X['CRSArrTime_Minute'] = pd.to_numeric(X['CRSArrTime'].apply(get_min))\n",
    "\n",
    "X.drop(['DepTime', 'CRSDepTime', 'ArrTime', 'CRSArrTime'], axis = 1, inplace = True)"
   ]
  },
  {
   "cell_type": "markdown",
   "id": "3d267a26",
   "metadata": {},
   "source": [
    "14. (0.5 балла) Некоторые из признаков, отличных от целевой переменной, могут оказывать чересчур значимое влияние на прогноз, поскольку по своему смыслу содержат большую долю информации о значении целевой переменной. Изучите описание датасета и исключите признаки, сильно коррелирующие с ответами. Ваш выбор признаков для исключения из выборки обоснуйте. Кроме того, исключите признаки TailNum и Year."
   ]
  },
  {
   "cell_type": "code",
   "execution_count": 28,
   "id": "47002c95",
   "metadata": {},
   "outputs": [],
   "source": [
    "import seaborn as sns\n",
    "\n",
    "X.drop(['TailNum', 'Year'], axis = 1, inplace = True)\n",
    "numeric_data = X.select_dtypes([np.number])\n",
    "numeric_data_mean = numeric_data.mean()\n",
    "numeric_features = numeric_data.columns"
   ]
  },
  {
   "cell_type": "code",
   "execution_count": null,
   "id": "bc840aac",
   "metadata": {},
   "outputs": [],
   "source": []
  },
  {
   "cell_type": "code",
   "execution_count": 30,
   "id": "aa2f1874",
   "metadata": {},
   "outputs": [
    {
     "data": {
      "image/png": "[encoded data removed]",
      "text/plain": [
       "<Figure size 1080x720 with 1 Axes>"
      ]
     },
     "metadata": {
      "needs_background": "light"
     },
     "output_type": "display_data"
    }
   ],
   "source": [
    "X_f = X.fillna(numeric_data_mean)\n",
    "\n",
    "correlations = {\n",
    "    feature: np.corrcoef(X_f[feature], y)[0][1]\n",
    "    for feature in numeric_features\n",
    "}\n",
    "sorted_correlations = sorted(correlations.items(), key=lambda x: x[1], reverse=True)\n",
    "features_order = [x[0] for x in sorted_correlations]\n",
    "correlations = [x[1] for x in sorted_correlations]\n",
    "\n",
    "\n",
    "plot = sns.barplot(y = features_order, x = correlations,)\n",
    "plot.set_yticklabels(features_order, fontsize = 30)\n",
    "plot.figure.set_size_inches(15, 10)"
   ]
  },
  {
   "cell_type": "code",
   "execution_count": 31,
   "id": "ba4c675b",
   "metadata": {},
   "outputs": [],
   "source": [
    "X.drop('ArrDelay', axis = 1, inplace = True)#сильно коррелируется"
   ]
  },
  {
   "cell_type": "markdown",
   "id": "e6ad9ac6",
   "metadata": {},
   "source": [
    "15. (1 балл) Приведем данные к виду, пригодному для обучения линейных моделей. Для этого вещественные признаки надо отмасштабировать, а категориальные — привести к числовому виду. Также надо устранить пропуски в данных.\n",
    "\n",
    "В первую очередь поймем, зачем необходимо применять масштабирование. Следующие ячейки с кодом построят гистограммы для 3 вещественных признаков выборки.\n",
    "\n"
   ]
  },
  {
   "cell_type": "code",
   "execution_count": 32,
   "id": "68055725",
   "metadata": {},
   "outputs": [
    {
     "data": {
      "text/plain": [
       "<AxesSubplot:>"
      ]
     },
     "execution_count": 32,
     "metadata": {},
     "output_type": "execute_result"
    },
    {
     "data": {
      "image/png": "[encoded data removed]",
      "text/plain": [
       "<Figure size 432x288 with 1 Axes>"
      ]
     },
     "metadata": {
      "needs_background": "light"
     },
     "output_type": "display_data"
    }
   ],
   "source": [
    "X['DepTime_Hour'].hist(bins=20)"
   ]
  },
  {
   "cell_type": "code",
   "execution_count": 33,
   "id": "772f137e",
   "metadata": {},
   "outputs": [
    {
     "data": {
      "text/plain": [
       "<AxesSubplot:>"
      ]
     },
     "execution_count": 33,
     "metadata": {},
     "output_type": "execute_result"
    },
    {
     "data": {
      "image/png": "[encoded data removed]",
      "text/plain": [
       "<Figure size 432x288 with 1 Axes>"
      ]
     },
     "metadata": {
      "needs_background": "light"
     },
     "output_type": "display_data"
    }
   ],
   "source": [
    "X['TaxiIn'].hist(bins=20)"
   ]
  },
  {
   "cell_type": "code",
   "execution_count": 34,
   "id": "9fb78d5c",
   "metadata": {},
   "outputs": [
    {
     "data": {
      "text/plain": [
       "<AxesSubplot:>"
      ]
     },
     "execution_count": 34,
     "metadata": {},
     "output_type": "execute_result"
    },
    {
     "data": {
      "image/png": "[encoded data removed]",
      "text/plain": [
       "<Figure size 432x288 with 1 Axes>"
      ]
     },
     "metadata": {
      "needs_background": "light"
     },
     "output_type": "display_data"
    }
   ],
   "source": [
    "X['FlightNum'].hist(bins=20)"
   ]
  },
  {
   "cell_type": "markdown",
   "id": "634b14cc",
   "metadata": {},
   "source": [
    "Какую проблему вы наблюдаете на этих графиках? Как масштабирование поможет её исправить?\n",
    "\n",
    "На графиках видно, что разные признаки принимают значения из значительно отличающихся диапозонов, значения их отличаются на порядки. Масштабирование поможет уравнять признаки, их возможную значимость для модели.\n",
    "\n",
    "Некоторые из признаков в нашем датасете являются категориальными. Типичным подходом к работе с ними является бинарное, или one-hot-кодирование.\n",
    "\n",
    "Реализуйте функцию transform_data, которая принимает на вход DataFrame с признаками и выполняет следующие шаги:\n",
    "\n",
    "Замена пропущенных значений на нули для вещественных признаков и на строки 'nan' для категориальных.\n",
    "Масштабирование вещественных признаков с помощью StandardScaler.\n",
    "One-hot-кодирование категориальных признаков с помощью DictVectorizer или функции pd.get_dummies.\n",
    "Метод должен возвращать преобразованный DataFrame, который должна состоять из масштабированных вещественных признаков и закодированных категориальных (исходные признаки должны быть исключены из выборки)."
   ]
  },
  {
   "cell_type": "code",
   "execution_count": 35,
   "id": "90f4dea7",
   "metadata": {},
   "outputs": [],
   "source": [
    "from sklearn.preprocessing import StandardScaler"
   ]
  },
  {
   "cell_type": "code",
   "execution_count": 36,
   "id": "9ba27cda",
   "metadata": {},
   "outputs": [],
   "source": [
    "def transform_data(data):\n",
    "    numeric_features = data.select_dtypes([np.number]).columns\n",
    "    object_features = data.select_dtypes([object]).columns\n",
    "    data[numeric_features] = data[numeric_features].fillna(0)\n",
    "    data[object_features] = data[object_features].fillna('nan')\n",
    "    \n",
    "    scaler = StandardScaler()\n",
    "    data[numeric_features] = scaler.fit_transform(data[numeric_features])\n",
    "    \n",
    "    object_data_transform = pd.get_dummies(data[object_features])\n",
    "    data = pd.concat([data, object_data_transform], axis = 1)\n",
    "    \n",
    "    data.drop(object_features, axis = 1, inplace = True)\n",
    "    \n",
    "    return data"
   ]
  },
  {
   "cell_type": "code",
   "execution_count": 37,
   "id": "a643e163",
   "metadata": {},
   "outputs": [
    {
     "data": {
      "text/html": [
       "<div>\n",
       "<style scoped>\n",
       "    .dataframe tbody tr th:only-of-type {\n",
       "        vertical-align: middle;\n",
       "    }\n",
       "\n",
       "    .dataframe tbody tr th {\n",
       "        vertical-align: top;\n",
       "    }\n",
       "\n",
       "    .dataframe thead th {\n",
       "        text-align: right;\n",
       "    }\n",
       "</style>\n",
       "<table border=\"1\" class=\"dataframe\">\n",
       "  <thead>\n",
       "    <tr style=\"text-align: right;\">\n",
       "      <th></th>\n",
       "      <th>Month</th>\n",
       "      <th>DayofMonth</th>\n",
       "      <th>DayOfWeek</th>\n",
       "      <th>FlightNum</th>\n",
       "      <th>ActualElapsedTime</th>\n",
       "      <th>CRSElapsedTime</th>\n",
       "      <th>AirTime</th>\n",
       "      <th>Distance</th>\n",
       "      <th>TaxiIn</th>\n",
       "      <th>TaxiOut</th>\n",
       "      <th>...</th>\n",
       "      <th>Dest_TYR</th>\n",
       "      <th>Dest_TYS</th>\n",
       "      <th>Dest_VLD</th>\n",
       "      <th>Dest_VPS</th>\n",
       "      <th>Dest_WRG</th>\n",
       "      <th>Dest_WYS</th>\n",
       "      <th>Dest_XNA</th>\n",
       "      <th>Dest_YAK</th>\n",
       "      <th>Dest_YKM</th>\n",
       "      <th>Dest_YUM</th>\n",
       "    </tr>\n",
       "  </thead>\n",
       "  <tbody>\n",
       "    <tr>\n",
       "      <th>0</th>\n",
       "      <td>-0.118281</td>\n",
       "      <td>0.256485</td>\n",
       "      <td>-0.462767</td>\n",
       "      <td>-0.991600</td>\n",
       "      <td>-0.988979</td>\n",
       "      <td>-0.916826</td>\n",
       "      <td>-0.849307</td>\n",
       "      <td>-0.744130</td>\n",
       "      <td>-0.786908</td>\n",
       "      <td>-0.741204</td>\n",
       "      <td>...</td>\n",
       "      <td>0</td>\n",
       "      <td>0</td>\n",
       "      <td>0</td>\n",
       "      <td>0</td>\n",
       "      <td>0</td>\n",
       "      <td>0</td>\n",
       "      <td>0</td>\n",
       "      <td>0</td>\n",
       "      <td>0</td>\n",
       "      <td>0</td>\n",
       "    </tr>\n",
       "    <tr>\n",
       "      <th>1</th>\n",
       "      <td>-0.118281</td>\n",
       "      <td>-1.332050</td>\n",
       "      <td>-0.462767</td>\n",
       "      <td>0.106546</td>\n",
       "      <td>-0.040552</td>\n",
       "      <td>0.127377</td>\n",
       "      <td>0.064301</td>\n",
       "      <td>0.183961</td>\n",
       "      <td>-0.582387</td>\n",
       "      <td>-0.389769</td>\n",
       "      <td>...</td>\n",
       "      <td>0</td>\n",
       "      <td>0</td>\n",
       "      <td>0</td>\n",
       "      <td>0</td>\n",
       "      <td>0</td>\n",
       "      <td>0</td>\n",
       "      <td>0</td>\n",
       "      <td>0</td>\n",
       "      <td>0</td>\n",
       "      <td>0</td>\n",
       "    </tr>\n",
       "    <tr>\n",
       "      <th>2</th>\n",
       "      <td>0.467662</td>\n",
       "      <td>-1.445517</td>\n",
       "      <td>1.541454</td>\n",
       "      <td>-0.207284</td>\n",
       "      <td>0.157627</td>\n",
       "      <td>0.370547</td>\n",
       "      <td>0.314806</td>\n",
       "      <td>0.471018</td>\n",
       "      <td>-0.582387</td>\n",
       "      <td>-0.653345</td>\n",
       "      <td>...</td>\n",
       "      <td>0</td>\n",
       "      <td>0</td>\n",
       "      <td>0</td>\n",
       "      <td>0</td>\n",
       "      <td>0</td>\n",
       "      <td>0</td>\n",
       "      <td>0</td>\n",
       "      <td>0</td>\n",
       "      <td>0</td>\n",
       "      <td>0</td>\n",
       "    </tr>\n",
       "    <tr>\n",
       "      <th>3</th>\n",
       "      <td>-1.583137</td>\n",
       "      <td>0.823819</td>\n",
       "      <td>-0.462767</td>\n",
       "      <td>0.836931</td>\n",
       "      <td>-0.351976</td>\n",
       "      <td>-0.258835</td>\n",
       "      <td>-0.363032</td>\n",
       "      <td>-0.347886</td>\n",
       "      <td>-0.582387</td>\n",
       "      <td>0.225242</td>\n",
       "      <td>...</td>\n",
       "      <td>0</td>\n",
       "      <td>0</td>\n",
       "      <td>0</td>\n",
       "      <td>0</td>\n",
       "      <td>0</td>\n",
       "      <td>0</td>\n",
       "      <td>0</td>\n",
       "      <td>0</td>\n",
       "      <td>0</td>\n",
       "      <td>0</td>\n",
       "    </tr>\n",
       "    <tr>\n",
       "      <th>4</th>\n",
       "      <td>-0.411252</td>\n",
       "      <td>-1.332050</td>\n",
       "      <td>1.541454</td>\n",
       "      <td>-0.910960</td>\n",
       "      <td>0.299183</td>\n",
       "      <td>0.442068</td>\n",
       "      <td>0.476898</td>\n",
       "      <td>0.634799</td>\n",
       "      <td>-0.582387</td>\n",
       "      <td>-0.741204</td>\n",
       "      <td>...</td>\n",
       "      <td>0</td>\n",
       "      <td>0</td>\n",
       "      <td>0</td>\n",
       "      <td>0</td>\n",
       "      <td>0</td>\n",
       "      <td>0</td>\n",
       "      <td>0</td>\n",
       "      <td>0</td>\n",
       "      <td>0</td>\n",
       "      <td>0</td>\n",
       "    </tr>\n",
       "    <tr>\n",
       "      <th>...</th>\n",
       "      <td>...</td>\n",
       "      <td>...</td>\n",
       "      <td>...</td>\n",
       "      <td>...</td>\n",
       "      <td>...</td>\n",
       "      <td>...</td>\n",
       "      <td>...</td>\n",
       "      <td>...</td>\n",
       "      <td>...</td>\n",
       "      <td>...</td>\n",
       "      <td>...</td>\n",
       "      <td>...</td>\n",
       "      <td>...</td>\n",
       "      <td>...</td>\n",
       "      <td>...</td>\n",
       "      <td>...</td>\n",
       "      <td>...</td>\n",
       "      <td>...</td>\n",
       "      <td>...</td>\n",
       "      <td>...</td>\n",
       "      <td>...</td>\n",
       "    </tr>\n",
       "    <tr>\n",
       "      <th>63399</th>\n",
       "      <td>-1.583137</td>\n",
       "      <td>1.164220</td>\n",
       "      <td>1.040399</td>\n",
       "      <td>1.564234</td>\n",
       "      <td>-0.238731</td>\n",
       "      <td>-0.230227</td>\n",
       "      <td>-0.274618</td>\n",
       "      <td>-0.120706</td>\n",
       "      <td>1.053782</td>\n",
       "      <td>-0.301910</td>\n",
       "      <td>...</td>\n",
       "      <td>0</td>\n",
       "      <td>0</td>\n",
       "      <td>0</td>\n",
       "      <td>0</td>\n",
       "      <td>0</td>\n",
       "      <td>0</td>\n",
       "      <td>0</td>\n",
       "      <td>0</td>\n",
       "      <td>0</td>\n",
       "      <td>0</td>\n",
       "    </tr>\n",
       "    <tr>\n",
       "      <th>63400</th>\n",
       "      <td>-0.411252</td>\n",
       "      <td>-0.424316</td>\n",
       "      <td>-1.464878</td>\n",
       "      <td>-0.708075</td>\n",
       "      <td>0.016071</td>\n",
       "      <td>-0.001361</td>\n",
       "      <td>-0.259882</td>\n",
       "      <td>-0.217566</td>\n",
       "      <td>3.098994</td>\n",
       "      <td>0.313101</td>\n",
       "      <td>...</td>\n",
       "      <td>0</td>\n",
       "      <td>0</td>\n",
       "      <td>0</td>\n",
       "      <td>0</td>\n",
       "      <td>0</td>\n",
       "      <td>0</td>\n",
       "      <td>0</td>\n",
       "      <td>0</td>\n",
       "      <td>0</td>\n",
       "      <td>0</td>\n",
       "    </tr>\n",
       "    <tr>\n",
       "      <th>63401</th>\n",
       "      <td>-0.411252</td>\n",
       "      <td>-0.537783</td>\n",
       "      <td>1.541454</td>\n",
       "      <td>2.047563</td>\n",
       "      <td>-1.130535</td>\n",
       "      <td>-1.145693</td>\n",
       "      <td>-1.085076</td>\n",
       "      <td>-1.043514</td>\n",
       "      <td>-0.582387</td>\n",
       "      <td>-0.301910</td>\n",
       "      <td>...</td>\n",
       "      <td>0</td>\n",
       "      <td>0</td>\n",
       "      <td>0</td>\n",
       "      <td>0</td>\n",
       "      <td>0</td>\n",
       "      <td>0</td>\n",
       "      <td>0</td>\n",
       "      <td>0</td>\n",
       "      <td>0</td>\n",
       "      <td>0</td>\n",
       "    </tr>\n",
       "    <tr>\n",
       "      <th>63402</th>\n",
       "      <td>-1.290166</td>\n",
       "      <td>0.256485</td>\n",
       "      <td>-1.464878</td>\n",
       "      <td>-0.786661</td>\n",
       "      <td>1.516567</td>\n",
       "      <td>1.286013</td>\n",
       "      <td>1.302092</td>\n",
       "      <td>1.208912</td>\n",
       "      <td>2.689951</td>\n",
       "      <td>0.488818</td>\n",
       "      <td>...</td>\n",
       "      <td>0</td>\n",
       "      <td>0</td>\n",
       "      <td>0</td>\n",
       "      <td>0</td>\n",
       "      <td>0</td>\n",
       "      <td>0</td>\n",
       "      <td>0</td>\n",
       "      <td>0</td>\n",
       "      <td>0</td>\n",
       "      <td>0</td>\n",
       "    </tr>\n",
       "    <tr>\n",
       "      <th>63403</th>\n",
       "      <td>1.639547</td>\n",
       "      <td>-1.105117</td>\n",
       "      <td>1.040399</td>\n",
       "      <td>-0.853947</td>\n",
       "      <td>-0.946512</td>\n",
       "      <td>-0.916826</td>\n",
       "      <td>-0.849307</td>\n",
       "      <td>-0.892061</td>\n",
       "      <td>-0.991430</td>\n",
       "      <td>-0.389769</td>\n",
       "      <td>...</td>\n",
       "      <td>0</td>\n",
       "      <td>0</td>\n",
       "      <td>0</td>\n",
       "      <td>0</td>\n",
       "      <td>0</td>\n",
       "      <td>0</td>\n",
       "      <td>0</td>\n",
       "      <td>0</td>\n",
       "      <td>0</td>\n",
       "      <td>0</td>\n",
       "    </tr>\n",
       "  </tbody>\n",
       "</table>\n",
       "<p>63404 rows × 632 columns</p>\n",
       "</div>"
      ],
      "text/plain": [
       "          Month  DayofMonth  DayOfWeek  FlightNum  ActualElapsedTime  \\\n",
       "0     -0.118281    0.256485  -0.462767  -0.991600          -0.988979   \n",
       "1     -0.118281   -1.332050  -0.462767   0.106546          -0.040552   \n",
       "2      0.467662   -1.445517   1.541454  -0.207284           0.157627   \n",
       "3     -1.583137    0.823819  -0.462767   0.836931          -0.351976   \n",
       "4     -0.411252   -1.332050   1.541454  -0.910960           0.299183   \n",
       "...         ...         ...        ...        ...                ...   \n",
       "63399 -1.583137    1.164220   1.040399   1.564234          -0.238731   \n",
       "63400 -0.411252   -0.424316  -1.464878  -0.708075           0.016071   \n",
       "63401 -0.411252   -0.537783   1.541454   2.047563          -1.130535   \n",
       "63402 -1.290166    0.256485  -1.464878  -0.786661           1.516567   \n",
       "63403  1.639547   -1.105117   1.040399  -0.853947          -0.946512   \n",
       "\n",
       "       CRSElapsedTime   AirTime  Distance    TaxiIn   TaxiOut  ...  Dest_TYR  \\\n",
       "0           -0.916826 -0.849307 -0.744130 -0.786908 -0.741204  ...         0   \n",
       "1            0.127377  0.064301  0.183961 -0.582387 -0.389769  ...         0   \n",
       "2            0.370547  0.314806  0.471018 -0.582387 -0.653345  ...         0   \n",
       "3           -0.258835 -0.363032 -0.347886 -0.582387  0.225242  ...         0   \n",
       "4            0.442068  0.476898  0.634799 -0.582387 -0.741204  ...         0   \n",
       "...               ...       ...       ...       ...       ...  ...       ...   \n",
       "63399       -0.230227 -0.274618 -0.120706  1.053782 -0.301910  ...         0   \n",
       "63400       -0.001361 -0.259882 -0.217566  3.098994  0.313101  ...         0   \n",
       "63401       -1.145693 -1.085076 -1.043514 -0.582387 -0.301910  ...         0   \n",
       "63402        1.286013  1.302092  1.208912  2.689951  0.488818  ...         0   \n",
       "63403       -0.916826 -0.849307 -0.892061 -0.991430 -0.389769  ...         0   \n",
       "\n",
       "       Dest_TYS  Dest_VLD  Dest_VPS  Dest_WRG  Dest_WYS  Dest_XNA  Dest_YAK  \\\n",
       "0             0         0         0         0         0         0         0   \n",
       "1             0         0         0         0         0         0         0   \n",
       "2             0         0         0         0         0         0         0   \n",
       "3             0         0         0         0         0         0         0   \n",
       "4             0         0         0         0         0         0         0   \n",
       "...         ...       ...       ...       ...       ...       ...       ...   \n",
       "63399         0         0         0         0         0         0         0   \n",
       "63400         0         0         0         0         0         0         0   \n",
       "63401         0         0         0         0         0         0         0   \n",
       "63402         0         0         0         0         0         0         0   \n",
       "63403         0         0         0         0         0         0         0   \n",
       "\n",
       "       Dest_YKM  Dest_YUM  \n",
       "0             0         0  \n",
       "1             0         0  \n",
       "2             0         0  \n",
       "3             0         0  \n",
       "4             0         0  \n",
       "...         ...       ...  \n",
       "63399         0         0  \n",
       "63400         0         0  \n",
       "63401         0         0  \n",
       "63402         0         0  \n",
       "63403         0         0  \n",
       "\n",
       "[63404 rows x 632 columns]"
      ]
     },
     "execution_count": 37,
     "metadata": {},
     "output_type": "execute_result"
    }
   ],
   "source": [
    "\n",
    "new = transform_data(X)\n",
    "new"
   ]
  },
  {
   "cell_type": "markdown",
   "id": "31dbdfbc",
   "metadata": {},
   "source": [
    "\n",
    "16. (0.5 балла) Разбейте выборку и вектор целевой переменной на обучение и контроль в отношении 70/30 (для этого можно использовать, например, функцию train_test_split)."
   ]
  },
  {
   "cell_type": "code",
   "execution_count": 38,
   "id": "1a7d3467",
   "metadata": {},
   "outputs": [],
   "source": [
    "from sklearn.model_selection import train_test_split"
   ]
  },
  {
   "cell_type": "code",
   "execution_count": 43,
   "id": "b14fab42",
   "metadata": {},
   "outputs": [],
   "source": [
    "new = np.array(new)\n",
    "x_train, x_test, y_train, y_test = train_test_split(new, y, test_size = 0.3, random_state = 15)"
   ]
  },
  {
   "cell_type": "code",
   "execution_count": null,
   "id": "47d656e0",
   "metadata": {},
   "outputs": [],
   "source": []
  }
 ],
 "metadata": {
  "kernelspec": {
   "display_name": "Python 3 (ipykernel)",
   "language": "python",
   "name": "python3"
  },
  "language_info": {
   "codemirror_mode": {
    "name": "ipython",
    "version": 3
   },
   "file_extension": ".py",
   "mimetype": "text/x-python",
   "name": "python",
   "nbconvert_exporter": "python",
   "pygments_lexer": "ipython3",
   "version": "3.9.7"
  }
 },
 "nbformat": 4,
 "nbformat_minor": 5
}
