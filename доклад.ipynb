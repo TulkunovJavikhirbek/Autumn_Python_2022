{
 "cells": [
  {
   "cell_type": "code",
   "execution_count": null,
   "id": "e74e454d",
   "metadata": {},
   "outputs": [],
   "source": [
    "\n"
   ]
  },
  {
   "cell_type": "code",
   "execution_count": 35,
   "id": "9e829221",
   "metadata": {},
   "outputs": [
    {
     "name": "stdout",
     "output_type": "stream",
     "text": [
      "[[ 0.647   0.5096  0.1799]\n",
      " [ 0.5392 -0.4811  0.5743]\n",
      " [ 0.5392 -0.1305 -0.7902]\n",
      " [ 0.      0.7013  0.1162]]\n",
      "[[ 9.2736  3.235  -5.3916]\n",
      " [ 0.      5.7039  2.006 ]\n",
      " [-0.      0.     13.7079]]\n",
      "[[  6.   5.   0.]\n",
      " [  5.  -1.   4.]\n",
      " [  5.   1. -14.]\n",
      " [  0.   4.   3.]]\n"
     ]
    }
   ],
   "source": [
    "import numpy as np\n",
    "def gram_schmidt(A):\n",
    "    Q=np.zeros_like(A)\n",
    "    cnt = 0\n",
    "    for a in A.T:\n",
    "        u = np.copy(a)\n",
    "        for i in range(0, cnt):\n",
    "            u -= np.dot(np.dot(Q[:, i].T, a), Q[:, i])               \n",
    "        e = u / np.linalg.norm(u)\n",
    "        Q[:, cnt] = e\n",
    "        cnt += 1\n",
    "    R = np.dot(Q.T, A)\n",
    "    return (Q, R)\n",
    "\n",
    "np.set_printoptions(precision=4, suppress=True)\n",
    "A = np.array([[6, 5, 0],[5, -1, 4],[5, 1, -14],[0, 4, 3]],dtype=float)\n",
    "\n",
    "(Q, R) = gram_schmidt(A)\n",
    "print(Q)\n",
    "print(R)\n",
    "print (np.dot(Q,R))"
   ]
  },
  {
   "cell_type": "code",
   "execution_count": 31,
   "id": "2b3bbb80",
   "metadata": {},
   "outputs": [
    {
     "name": "stdout",
     "output_type": "stream",
     "text": [
      "[[ 0.647   0.5096  0.1799]\n",
      " [ 0.5392 -0.4811  0.5743]\n",
      " [ 0.5392 -0.1305 -0.7902]\n",
      " [ 0.      0.7013  0.1162]]\n",
      "[[ 9.2736  3.235  -5.3916]\n",
      " [ 0.      5.7039  2.006 ]\n",
      " [-0.      0.     13.7079]]\n",
      "[[  6.   5.   0.]\n",
      " [  5.  -1.   4.]\n",
      " [  5.   1. -14.]\n",
      " [  0.   4.   3.]]\n"
     ]
    }
   ],
   "source": [
    "import numpy as np\n",
    "\n",
    "def gram_schmidt(A):\n",
    "    Q=np.zeros_like(A)\n",
    "    cnt = 0\n",
    "    for a in A.T:\n",
    "        u = np.copy(a)\n",
    "        for i in range(0, cnt):\n",
    "            u -= np.dot(np.dot(Q[:, i].T, a), Q[:, i]) #                  \n",
    "        e = u / np.linalg.norm(u)  # \n",
    "        Q[:, cnt] = e\n",
    "        cnt += 1\n",
    "    R = np.dot(Q.T, A)\n",
    "    return (Q, R)\n",
    "\n",
    "\n",
    "np.set_printoptions(precision=4, suppress=True)\n",
    "A = np.array([[6, 5, 0],[5, -1, 4],[5, 1, -14],[0, 4, 3]],dtype=float)\n",
    "\n",
    "(Q, R) = gram_schmidt(A)\n",
    "print(Q)\n",
    "print(R)\n",
    "print (np.dot(Q,R))\n",
    "\n"
   ]
  },
  {
   "cell_type": "code",
   "execution_count": 33,
   "id": "573a8648",
   "metadata": {},
   "outputs": [
    {
     "data": {
      "text/plain": [
       "array([[  6.,   5.,   0.],\n",
       "       [  5.,  -1.,   4.],\n",
       "       [  5.,   1., -14.],\n",
       "       [  0.,   4.,   3.]])"
      ]
     },
     "execution_count": 33,
     "metadata": {},
     "output_type": "execute_result"
    }
   ],
   "source": [
    " Q, R = np.linalg.qr(A)\n",
    "Q\n",
    "np.dot(Q, R)"
   ]
  },
  {
   "cell_type": "code",
   "execution_count": null,
   "id": "b67df255",
   "metadata": {},
   "outputs": [],
   "source": []
  }
 ],
 "metadata": {
  "kernelspec": {
   "display_name": "Python 3 (ipykernel)",
   "language": "python",
   "name": "python3"
  },
  "language_info": {
   "codemirror_mode": {
    "name": "ipython",
    "version": 3
   },
   "file_extension": ".py",
   "mimetype": "text/x-python",
   "name": "python",
   "nbconvert_exporter": "python",
   "pygments_lexer": "ipython3",
   "version": "3.9.7"
  }
 },
 "nbformat": 4,
 "nbformat_minor": 5
}
